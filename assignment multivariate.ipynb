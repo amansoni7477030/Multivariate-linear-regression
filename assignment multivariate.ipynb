{
 "cells": [
  {
   "cell_type": "code",
   "execution_count": 87,
   "metadata": {},
   "outputs": [],
   "source": [
    "import numpy as np\n",
    "import pandas as pd\n",
    "import matplotlib.pyplot as plt\n",
    "import csv"
   ]
  },
  {
   "cell_type": "markdown",
   "metadata": {},
   "source": [
    "# reading files"
   ]
  },
  {
   "cell_type": "code",
   "execution_count": 96,
   "metadata": {},
   "outputs": [],
   "source": [
    "def read_csv(filename):\n",
    "    x1 = []\n",
    "    x2 = []\n",
    "    x3 = []\n",
    "    x4 = []\n",
    "    y1 = []\n",
    "    y2 = []\n",
    "    with open(filename) as f:\n",
    "        reader = csv.reader(f)\n",
    "        next(reader)\n",
    "        for row in reader:\n",
    "           # x.append((row))\n",
    "            x1.append(float(row[0]))\n",
    "            x2.append(float(row[1]))\n",
    "            x3.append(float(row[2]))\n",
    "            x4.append(float(row[3]))\n",
    "            y1.append(float(row[4]))\n",
    "            y2.append(float(row[5]))\n",
    "        return x1,x2,x3,x4,y1,y2\n",
    "if __name__ == '__main__':\n",
    "    x1,x2,x3,x4,y1,y2 = read_csv('multivariate.csv')"
   ]
  },
  {
   "cell_type": "code",
   "execution_count": 97,
   "metadata": {},
   "outputs": [
    {
     "data": {
      "text/html": [
       "<div>\n",
       "<style scoped>\n",
       "    .dataframe tbody tr th:only-of-type {\n",
       "        vertical-align: middle;\n",
       "    }\n",
       "\n",
       "    .dataframe tbody tr th {\n",
       "        vertical-align: top;\n",
       "    }\n",
       "\n",
       "    .dataframe thead th {\n",
       "        text-align: right;\n",
       "    }\n",
       "</style>\n",
       "<table border=\"1\" class=\"dataframe\">\n",
       "  <thead>\n",
       "    <tr style=\"text-align: right;\">\n",
       "      <th></th>\n",
       "      <th>X1</th>\n",
       "      <th>X2</th>\n",
       "      <th>X3</th>\n",
       "      <th>X4</th>\n",
       "      <th>y1</th>\n",
       "      <th>y2</th>\n",
       "    </tr>\n",
       "  </thead>\n",
       "  <tbody>\n",
       "    <tr>\n",
       "      <th>0</th>\n",
       "      <td>0.283</td>\n",
       "      <td>0.144</td>\n",
       "      <td>0.049</td>\n",
       "      <td>0.012</td>\n",
       "      <td>0.013</td>\n",
       "      <td>0.086</td>\n",
       "    </tr>\n",
       "    <tr>\n",
       "      <th>1</th>\n",
       "      <td>0.276</td>\n",
       "      <td>0.125</td>\n",
       "      <td>0.039</td>\n",
       "      <td>0.013</td>\n",
       "      <td>0.002</td>\n",
       "      <td>0.062</td>\n",
       "    </tr>\n",
       "    <tr>\n",
       "      <th>2</th>\n",
       "      <td>0.281</td>\n",
       "      <td>0.141</td>\n",
       "      <td>0.045</td>\n",
       "      <td>0.021</td>\n",
       "      <td>0.013</td>\n",
       "      <td>0.074</td>\n",
       "    </tr>\n",
       "    <tr>\n",
       "      <th>3</th>\n",
       "      <td>0.328</td>\n",
       "      <td>0.189</td>\n",
       "      <td>0.043</td>\n",
       "      <td>0.001</td>\n",
       "      <td>0.030</td>\n",
       "      <td>0.032</td>\n",
       "    </tr>\n",
       "    <tr>\n",
       "      <th>4</th>\n",
       "      <td>0.290</td>\n",
       "      <td>0.161</td>\n",
       "      <td>0.044</td>\n",
       "      <td>0.011</td>\n",
       "      <td>0.070</td>\n",
       "      <td>0.076</td>\n",
       "    </tr>\n",
       "  </tbody>\n",
       "</table>\n",
       "</div>"
      ],
      "text/plain": [
       "      X1     X2     X3     X4     y1     y2\n",
       "0  0.283  0.144  0.049  0.012  0.013  0.086\n",
       "1  0.276  0.125  0.039  0.013  0.002  0.062\n",
       "2  0.281  0.141  0.045  0.021  0.013  0.074\n",
       "3  0.328  0.189  0.043  0.001  0.030  0.032\n",
       "4  0.290  0.161  0.044  0.011  0.070  0.076"
      ]
     },
     "execution_count": 97,
     "metadata": {},
     "output_type": "execute_result"
    }
   ],
   "source": [
    "df.head()"
   ]
  },
  {
   "cell_type": "code",
   "execution_count": 25,
   "metadata": {},
   "outputs": [
    {
     "name": "stdout",
     "output_type": "stream",
     "text": [
      "Index(['X1', 'X2', 'X3', 'X4', 'y1', 'y2'], dtype='object')\n"
     ]
    }
   ],
   "source": [
    "print(df.columns)"
   ]
  },
  {
   "cell_type": "code",
   "execution_count": 88,
   "metadata": {},
   "outputs": [
    {
     "data": {
      "text/plain": [
       "X1    False\n",
       "X2    False\n",
       "X3    False\n",
       "X4    False\n",
       "y1    False\n",
       "y2    False\n",
       "dtype: bool"
      ]
     },
     "execution_count": 88,
     "metadata": {},
     "output_type": "execute_result"
    }
   ],
   "source": [
    "pd.isna(df).any()"
   ]
  },
  {
   "cell_type": "markdown",
   "metadata": {},
   "source": [
    "# output variables in one matrix"
   ]
  },
  {
   "cell_type": "code",
   "execution_count": 89,
   "metadata": {},
   "outputs": [
    {
     "data": {
      "text/plain": [
       "array([[0.013, 0.002, 0.013, 0.03 , 0.07 , 0.05 , 0.012, 0.003, 0.061,\n",
       "        0.014, 0.009, 0.011, 0.005, 0.004, 0.011, 0.05 , 0.049, 0.003,\n",
       "        0.085, 0.037, 0.012, 0.054, 0.043, 0.01 , 0.01 , 0.   , 0.022,\n",
       "        0.037, 0.   , 0.013, 0.051, 0.017, 0.011, 0.005, 0.015, 0.022,\n",
       "        0.066, 0.054, 0.038, 0.002, 0.004, 0.012, 0.021, 0.002, 0.039],\n",
       "       [0.086, 0.062, 0.074, 0.032, 0.076, 0.007, 0.095, 0.145, 0.112,\n",
       "        0.124, 0.111, 0.07 , 0.065, 0.138, 0.032, 0.06 , 0.233, 0.068,\n",
       "        0.158, 0.083, 0.04 , 0.095, 0.135, 0.031, 0.048, 0.061, 0.151,\n",
       "        0.081, 0.252, 0.07 , 0.264, 0.058, 0.188, 0.014, 0.142, 0.092,\n",
       "        0.211, 0.095, 0.101, 0.205, 0.138, 0.147, 0.13 , 0.   , 0.115]])"
      ]
     },
     "execution_count": 89,
     "metadata": {},
     "output_type": "execute_result"
    }
   ],
   "source": [
    "y_mer = np.array(np.vstack((y1,y2)))\n",
    "y_mer"
   ]
  },
  {
   "cell_type": "markdown",
   "metadata": {},
   "source": [
    "# input variables"
   ]
  },
  {
   "cell_type": "code",
   "execution_count": 90,
   "metadata": {},
   "outputs": [
    {
     "name": "stdout",
     "output_type": "stream",
     "text": [
      "[[0.283 0.276 0.281 0.328 0.29  0.296 0.248 0.228 0.305 0.254 0.269 0.3\n",
      "  0.307 0.214 0.329 0.31  0.252 0.308 0.342 0.358 0.34  0.304 0.248 0.367\n",
      "  0.325 0.244 0.245 0.318 0.207 0.32  0.243 0.317 0.199 0.294 0.221 0.301\n",
      "  0.298 0.304 0.297 0.188 0.214 0.218 0.284 0.27  0.277]\n",
      " [0.144 0.125 0.141 0.189 0.161 0.186 0.106 0.117 0.174 0.094 0.147 0.141\n",
      "  0.135 0.1   0.189 0.149 0.119 0.158 0.259 0.193 0.155 0.197 0.133 0.196\n",
      "  0.206 0.11  0.096 0.193 0.154 0.204 0.141 0.209 0.1   0.158 0.087 0.163\n",
      "  0.207 0.197 0.16  0.064 0.1   0.082 0.131 0.17  0.15 ]\n",
      " [0.049 0.039 0.045 0.043 0.044 0.047 0.036 0.03  0.05  0.041 0.047 0.058\n",
      "  0.041 0.037 0.058 0.05  0.04  0.038 0.06  0.066 0.051 0.052 0.037 0.063\n",
      "  0.054 0.025 0.044 0.063 0.045 0.053 0.041 0.057 0.029 0.034 0.038 0.068\n",
      "  0.042 0.052 0.049 0.044 0.037 0.061 0.049 0.026 0.053]\n",
      " [0.012 0.013 0.021 0.001 0.011 0.018 0.008 0.006 0.008 0.005 0.012 0.01\n",
      "  0.009 0.003 0.014 0.012 0.008 0.013 0.016 0.021 0.02  0.008 0.003 0.026\n",
      "  0.027 0.006 0.003 0.02  0.008 0.017 0.007 0.03  0.007 0.019 0.006 0.016\n",
      "  0.009 0.008 0.007 0.007 0.003 0.002 0.012 0.011 0.005]]\n"
     ]
    }
   ],
   "source": [
    "x = np.vstack((x1,x2,x3,x4)) \n",
    "print(x)"
   ]
  },
  {
   "cell_type": "markdown",
   "metadata": {},
   "source": [
    "# covariance matrix"
   ]
  },
  {
   "cell_type": "code",
   "execution_count": 92,
   "metadata": {},
   "outputs": [
    {
     "data": {
      "text/plain": [
       "array([[0.283, 0.144, 0.049, 0.012],\n",
       "       [0.276, 0.125, 0.039, 0.013],\n",
       "       [0.281, 0.141, 0.045, 0.021],\n",
       "       [0.328, 0.189, 0.043, 0.001],\n",
       "       [0.29 , 0.161, 0.044, 0.011],\n",
       "       [0.296, 0.186, 0.047, 0.018],\n",
       "       [0.248, 0.106, 0.036, 0.008],\n",
       "       [0.228, 0.117, 0.03 , 0.006],\n",
       "       [0.305, 0.174, 0.05 , 0.008],\n",
       "       [0.254, 0.094, 0.041, 0.005],\n",
       "       [0.269, 0.147, 0.047, 0.012],\n",
       "       [0.3  , 0.141, 0.058, 0.01 ],\n",
       "       [0.307, 0.135, 0.041, 0.009],\n",
       "       [0.214, 0.1  , 0.037, 0.003],\n",
       "       [0.329, 0.189, 0.058, 0.014],\n",
       "       [0.31 , 0.149, 0.05 , 0.012],\n",
       "       [0.252, 0.119, 0.04 , 0.008],\n",
       "       [0.308, 0.158, 0.038, 0.013],\n",
       "       [0.342, 0.259, 0.06 , 0.016],\n",
       "       [0.358, 0.193, 0.066, 0.021],\n",
       "       [0.34 , 0.155, 0.051, 0.02 ],\n",
       "       [0.304, 0.197, 0.052, 0.008],\n",
       "       [0.248, 0.133, 0.037, 0.003],\n",
       "       [0.367, 0.196, 0.063, 0.026],\n",
       "       [0.325, 0.206, 0.054, 0.027],\n",
       "       [0.244, 0.11 , 0.025, 0.006],\n",
       "       [0.245, 0.096, 0.044, 0.003],\n",
       "       [0.318, 0.193, 0.063, 0.02 ],\n",
       "       [0.207, 0.154, 0.045, 0.008],\n",
       "       [0.32 , 0.204, 0.053, 0.017],\n",
       "       [0.243, 0.141, 0.041, 0.007],\n",
       "       [0.317, 0.209, 0.057, 0.03 ],\n",
       "       [0.199, 0.1  , 0.029, 0.007],\n",
       "       [0.294, 0.158, 0.034, 0.019],\n",
       "       [0.221, 0.087, 0.038, 0.006],\n",
       "       [0.301, 0.163, 0.068, 0.016],\n",
       "       [0.298, 0.207, 0.042, 0.009],\n",
       "       [0.304, 0.197, 0.052, 0.008],\n",
       "       [0.297, 0.16 , 0.049, 0.007],\n",
       "       [0.188, 0.064, 0.044, 0.007],\n",
       "       [0.214, 0.1  , 0.037, 0.003],\n",
       "       [0.218, 0.082, 0.061, 0.002],\n",
       "       [0.284, 0.131, 0.049, 0.012],\n",
       "       [0.27 , 0.17 , 0.026, 0.011],\n",
       "       [0.277, 0.15 , 0.053, 0.005]])"
      ]
     },
     "execution_count": 92,
     "metadata": {},
     "output_type": "execute_result"
    }
   ],
   "source": [
    "cov_mat1 = np.array(np.stack((x1,x2,x3,x4), axis = 1))\n",
    "cov_mat1"
   ]
  },
  {
   "cell_type": "markdown",
   "metadata": {},
   "source": [
    "# x.transpose"
   ]
  },
  {
   "cell_type": "code",
   "execution_count": 93,
   "metadata": {},
   "outputs": [
    {
     "name": "stdout",
     "output_type": "stream",
     "text": [
      "[[0.283 0.144 0.049 0.012]\n",
      " [0.276 0.125 0.039 0.013]\n",
      " [0.281 0.141 0.045 0.021]\n",
      " [0.328 0.189 0.043 0.001]\n",
      " [0.29  0.161 0.044 0.011]\n",
      " [0.296 0.186 0.047 0.018]\n",
      " [0.248 0.106 0.036 0.008]\n",
      " [0.228 0.117 0.03  0.006]\n",
      " [0.305 0.174 0.05  0.008]\n",
      " [0.254 0.094 0.041 0.005]\n",
      " [0.269 0.147 0.047 0.012]\n",
      " [0.3   0.141 0.058 0.01 ]\n",
      " [0.307 0.135 0.041 0.009]\n",
      " [0.214 0.1   0.037 0.003]\n",
      " [0.329 0.189 0.058 0.014]\n",
      " [0.31  0.149 0.05  0.012]\n",
      " [0.252 0.119 0.04  0.008]\n",
      " [0.308 0.158 0.038 0.013]\n",
      " [0.342 0.259 0.06  0.016]\n",
      " [0.358 0.193 0.066 0.021]\n",
      " [0.34  0.155 0.051 0.02 ]\n",
      " [0.304 0.197 0.052 0.008]\n",
      " [0.248 0.133 0.037 0.003]\n",
      " [0.367 0.196 0.063 0.026]\n",
      " [0.325 0.206 0.054 0.027]\n",
      " [0.244 0.11  0.025 0.006]\n",
      " [0.245 0.096 0.044 0.003]\n",
      " [0.318 0.193 0.063 0.02 ]\n",
      " [0.207 0.154 0.045 0.008]\n",
      " [0.32  0.204 0.053 0.017]\n",
      " [0.243 0.141 0.041 0.007]\n",
      " [0.317 0.209 0.057 0.03 ]\n",
      " [0.199 0.1   0.029 0.007]\n",
      " [0.294 0.158 0.034 0.019]\n",
      " [0.221 0.087 0.038 0.006]\n",
      " [0.301 0.163 0.068 0.016]\n",
      " [0.298 0.207 0.042 0.009]\n",
      " [0.304 0.197 0.052 0.008]\n",
      " [0.297 0.16  0.049 0.007]\n",
      " [0.188 0.064 0.044 0.007]\n",
      " [0.214 0.1   0.037 0.003]\n",
      " [0.218 0.082 0.061 0.002]\n",
      " [0.284 0.131 0.049 0.012]\n",
      " [0.27  0.17  0.026 0.011]\n",
      " [0.277 0.15  0.053 0.005]]\n"
     ]
    }
   ],
   "source": [
    "xT = x.transpose()\n",
    "print(xT)"
   ]
  },
  {
   "cell_type": "markdown",
   "metadata": {},
   "source": [
    "# beta estimated"
   ]
  },
  {
   "cell_type": "code",
   "execution_count": 66,
   "metadata": {},
   "outputs": [
    {
     "name": "stdout",
     "output_type": "stream",
     "text": [
      "[[ 5.58723726e+16  2.99834679e+16  8.90906179e+15  1.70548200e+15]\n",
      " [ 4.00263402e+16  2.34633465e+16  7.08942254e+15  1.68517710e+15]\n",
      " [-8.80056097e+16 -4.37300438e+16 -1.22537264e+16 -3.32947672e+15]\n",
      " [-8.61705151e+16 -5.41822819e+16 -1.16384069e+16 -3.51838217e+15]\n",
      " [-1.62606453e+17 -8.54526786e+16 -2.76412400e+16 -6.88289729e+15]\n",
      " [ 1.23064632e+16  4.71821262e+15  2.15499175e+15 -1.18337161e+14]\n",
      " [ 6.21171653e+15  8.24535475e+15  5.56474875e+14  1.05359259e+15]\n",
      " [ 1.25599221e+15 -1.52288418e+15  1.22442201e+14 -4.64765584e+14]\n",
      " [ 2.50277165e+16  1.10247211e+16  3.39249948e+15  1.00315502e+15]\n",
      " [ 2.10822250e+15  2.51484820e+14  4.43516440e+14 -1.74575908e+14]\n",
      " [-7.10480510e+16 -3.47321906e+16 -1.23152002e+16 -1.39582060e+15]\n",
      " [ 3.52575827e+16  2.07875006e+16  5.18318905e+15  1.31216163e+15]\n",
      " [ 3.37489180e+15  4.96951046e+15  1.02781176e+15  7.48538113e+14]\n",
      " [-7.21752737e+16 -4.50997217e+16 -1.12815154e+16 -4.22424883e+15]\n",
      " [ 1.11340652e+16  5.60808089e+15  1.75258893e+15  3.07735707e+14]\n",
      " [-3.60428702e+15 -5.00227774e+15 -5.89029565e+14 -7.32038169e+14]\n",
      " [ 1.07856606e+17  5.61705629e+16  1.57186325e+16  4.07723941e+15]\n",
      " [ 1.75911010e+16  1.09362903e+16  2.02143306e+15  9.19283277e+14]\n",
      " [ 3.21832809e+15  2.09538278e+15  5.25978475e+14  1.33764369e+14]\n",
      " [ 1.17153934e+16  6.01789003e+15  1.90395591e+15  3.21102809e+14]\n",
      " [-5.84857102e+15 -2.78044919e+15 -8.45440891e+14 -1.60997962e+14]\n",
      " [ 1.49930401e+15  1.55115035e+15  4.35483134e+14  1.48462035e+14]\n",
      " [-8.68932328e+15 -5.17690571e+15 -1.46137938e+15 -4.88050060e+14]\n",
      " [-4.85082076e+15 -3.04951879e+15 -8.44810658e+14 -2.90473423e+14]\n",
      " [-1.60403337e+16 -8.92286544e+15 -2.37962785e+15 -5.53101952e+14]\n",
      " [ 1.41161221e+16  8.13897702e+15  2.04448245e+15  4.64226874e+14]\n",
      " [ 1.82238440e+16  1.05269761e+16  3.30294861e+15  1.04051290e+15]\n",
      " [ 3.20588284e+16  1.49256686e+16  5.16865226e+15  1.48737596e+15]\n",
      " [-1.18346886e+16 -7.06714465e+15 -2.22121230e+15 -5.38157088e+14]\n",
      " [ 4.20641087e+16  2.54122724e+16  7.87562099e+15  1.84631191e+15]\n",
      " [-3.11677019e+16 -1.99791225e+16 -5.69319805e+15 -1.36027569e+15]\n",
      " [ 2.03639583e+16  1.23910945e+16  2.61802986e+15  8.25866448e+14]\n",
      " [-4.66813035e+16 -2.77255858e+16 -7.89735580e+15 -2.05946860e+15]\n",
      " [-3.07858630e+16 -1.41428510e+16 -4.21276374e+15 -1.17746143e+15]\n",
      " [ 3.33925400e+16  2.57809943e+16  6.54973886e+15  2.21513761e+15]\n",
      " [ 1.45402055e+16  7.31283986e+15  2.16728712e+15  6.87084417e+14]\n",
      " [ 4.42590584e+16  2.88526731e+16  8.29559332e+15  1.95630069e+15]\n",
      " [-2.42127785e+16 -1.43350637e+16 -3.83407195e+15 -1.08066103e+15]\n",
      " [ 5.31198610e+16  3.08382242e+16  8.53178275e+15  2.36494695e+15]\n",
      " [ 3.94593408e+16  2.40952345e+16  6.11923573e+15  1.59365004e+15]\n",
      " [ 9.97380858e+16  6.75368511e+16  1.97947691e+16  5.19733313e+15]\n",
      " [-3.80260328e+16 -2.20996888e+16 -6.54004280e+15 -2.01971306e+15]\n",
      " [-1.09321218e+17 -7.27262726e+16 -1.82506650e+16 -5.37031384e+15]\n",
      " [ 4.60360759e+16  2.98149570e+16  9.19855023e+15  2.55132677e+15]\n",
      " [ 5.14707424e+15  2.97572110e+15  7.52119730e+14  2.41980613e+14]]\n"
     ]
    }
   ],
   "source": [
    "xTx = np.matmul(xT, x)\n",
    "xTx_inverse = np.linalg.inv(xTx)\n",
    "product_xTxy = np.matmul(xTx_inverse,xT)\n",
    "print(product_xTxy)"
   ]
  },
  {
   "cell_type": "markdown",
   "metadata": {},
   "source": [
    "# valve knowing"
   ]
  },
  {
   "cell_type": "code",
   "execution_count": 99,
   "metadata": {},
   "outputs": [
    {
     "name": "stdout",
     "output_type": "stream",
     "text": [
      "45\n"
     ]
    }
   ],
   "source": [
    "x = df[['X1','X2','X3','X4']].values\n",
    "y = df[['y1','y2']].values\n",
    "m = len(y)\n",
    "print(m)"
   ]
  },
  {
   "cell_type": "markdown",
   "metadata": {},
   "source": [
    "# simple visualization the output"
   ]
  },
  {
   "cell_type": "code",
   "execution_count": 95,
   "metadata": {},
   "outputs": [
    {
     "data": {
      "text/plain": [
       "[<matplotlib.lines.Line2D at 0x359a833b50>,\n",
       " <matplotlib.lines.Line2D at 0x359a833b80>]"
      ]
     },
     "execution_count": 95,
     "metadata": {},
     "output_type": "execute_result"
    },
    {
     "data": {
      "image/png": "[encoded data removed]",
      "text/plain": [
       "<Figure size 432x288 with 4 Axes>"
      ]
     },
     "metadata": {
      "needs_background": "light"
     },
     "output_type": "display_data"
    }
   ],
   "source": [
    "fig,axs = plt.subplots(2,2)\n",
    "axs[0, 0].plot(x[:,0],y,'o')\n",
    "axs[0, 1].plot(x[:,1],y,'o')\n",
    "axs[1, 0].plot(x[:,2],y,'o')"
   ]
  },
  {
   "cell_type": "markdown",
   "metadata": {},
   "source": [
    "# correlation "
   ]
  },
  {
   "cell_type": "code",
   "execution_count": 50,
   "metadata": {},
   "outputs": [
    {
     "name": "stdout",
     "output_type": "stream",
     "text": [
      "The mean correlation =  -0.17905271608551274\n"
     ]
    }
   ],
   "source": [
    "def calculatemean(n1,n2,n3,n4):\n",
    "    s= sum(n1+n2+n3+n4)\n",
    "    return s/3\n",
    "def find_corr_x_y(x,y):\n",
    "    n = len(x)\n",
    "    # product sum\n",
    "    prod = []\n",
    "    for xi,yi in zip(x,y):\n",
    "        prod.append(xi*yi)\n",
    "    \n",
    "    sum_prod_x_y = sum(prod)\n",
    "    sum_x = sum(x)\n",
    "    sum_y = sum(y)\n",
    "    squared_sum_x = sum_x**2\n",
    "    squared_sum_y = sum_y**2\n",
    "    x_square = []\n",
    "    \n",
    "    for xi in x:\n",
    "        x_square.append(xi**2)\n",
    "    # Find the sum\n",
    "    x_square_sum = sum(x_square)\n",
    "    y_square=[]\n",
    "    \n",
    "    for yi in y:\n",
    "        y_square.append(yi**2)\n",
    "   \n",
    "    # sum\n",
    "    y_square_sum = sum(y_square)\n",
    "    \n",
    "    # calculating correlation\n",
    "    numerator = n*sum_prod_x_y - sum_x*sum_y\n",
    "    denominator_term1 = n*x_square_sum - squared_sum_x\n",
    "    denominator_term2 = n*y_square_sum - squared_sum_y\n",
    "    denominator = (denominator_term1*denominator_term2)**0.5\n",
    "    correlation = numerator/denominator\n",
    "\n",
    "    return correlation\n",
    "corr_mean = calculatemean(find_corr_x_y(x1,y),find_corr_x_y(x2,y),find_corr_x_y(x3,y),find_corr_x_y(x4,y))\n",
    "print(\"The mean correlation = \",corr_mean)"
   ]
  },
  {
   "cell_type": "code",
   "execution_count": 86,
   "metadata": {},
   "outputs": [
    {
     "data": {
      "text/plain": [
       "(4, 46)"
      ]
     },
     "execution_count": 86,
     "metadata": {},
     "output_type": "execute_result"
    }
   ],
   "source": [
    "X = np.concatenate((np.ones((len(x),1)),x),axis=1)\n",
    "X.shape"
   ]
  },
  {
   "cell_type": "markdown",
   "metadata": {},
   "source": [
    "# Feature Scaling"
   ]
  },
  {
   "cell_type": "code",
   "execution_count": 54,
   "metadata": {},
   "outputs": [
    {
     "data": {
      "text/plain": [
       "array([[1.        , 0.7704918 , 0.39071038, 0.13114754, 0.03005464],\n",
       "       [1.        , 0.75136612, 0.33879781, 0.10382514, 0.03278689],\n",
       "       [1.        , 0.76502732, 0.38251366, 0.12021858, 0.05464481],\n",
       "       [1.        , 0.89344262, 0.5136612 , 0.1147541 , 0.        ],\n",
       "       [1.        , 0.78961749, 0.43715847, 0.11748634, 0.0273224 ],\n",
       "       [1.        , 0.80601093, 0.50546448, 0.12568306, 0.04644809],\n",
       "       [1.        , 0.67486339, 0.28688525, 0.09562842, 0.01912568],\n",
       "       [1.        , 0.62021858, 0.31693989, 0.07923497, 0.0136612 ],\n",
       "       [1.        , 0.83060109, 0.4726776 , 0.13387978, 0.01912568],\n",
       "       [1.        , 0.69125683, 0.25409836, 0.10928962, 0.01092896]])"
      ]
     },
     "execution_count": 54,
     "metadata": {},
     "output_type": "execute_result"
    }
   ],
   "source": [
    "Xnorm = X.copy()\n",
    "minx = np.min(X[:,1:])\n",
    "maxx = np.max(X[:,1:])\n",
    "Xnorm[:,1:] = (X[:,1:]-minx)/(maxx-minx)\n",
    "Xnorm[:10,:]"
   ]
  },
  {
   "cell_type": "code",
   "execution_count": 84,
   "metadata": {},
   "outputs": [
    {
     "data": {
      "text/plain": [
       "array([0.04924242, 0.00757576, 0.04924242, 0.11363636, 0.26515152,\n",
       "       0.18939394, 0.04545455, 0.01136364, 0.23106061, 0.0530303 ])"
      ]
     },
     "execution_count": 84,
     "metadata": {},
     "output_type": "execute_result"
    }
   ],
   "source": [
    "ynorm = y.copy()\n",
    "maxy = np.max(y)\n",
    "miny = np.min(y)\n",
    "ynorm = (y-miny)/(maxy - miny) \n",
    "ynorm[:10,0]"
   ]
  },
  {
   "cell_type": "markdown",
   "metadata": {},
   "source": [
    "# y pridection"
   ]
  },
  {
   "cell_type": "code",
   "execution_count": 83,
   "metadata": {},
   "outputs": [
    {
     "data": {
      "text/plain": [
       "array([[1.16120219],\n",
       "       [1.11338798],\n",
       "       [1.16120219],\n",
       "       [1.26092896],\n",
       "       [1.18579235],\n",
       "       [1.24180328],\n",
       "       [1.03825137],\n",
       "       [1.01502732],\n",
       "       [1.22814208],\n",
       "       [1.03278689],\n",
       "       [1.14344262],\n",
       "       [1.18989071],\n",
       "       [1.16666667],\n",
       "       [0.97814208],\n",
       "       [1.30054645],\n",
       "       [1.20628415],\n",
       "       [1.06693989],\n",
       "       [1.20081967],\n",
       "       [1.41939891],\n",
       "       [1.36612022],\n",
       "       [1.26775956],\n",
       "       [1.26092896],\n",
       "       [1.06967213],\n",
       "       [1.3852459 ],\n",
       "       [1.33060109],\n",
       "       [1.0204918 ],\n",
       "       [1.02459016],\n",
       "       [1.30601093],\n",
       "       [1.06010929],\n",
       "       [1.30601093],\n",
       "       [1.08469945],\n",
       "       [1.33196721],\n",
       "       [0.95218579],\n",
       "       [1.18442623],\n",
       "       [0.97540984],\n",
       "       [1.2431694 ],\n",
       "       [1.25409836],\n",
       "       [1.26092896],\n",
       "       [1.19535519],\n",
       "       [0.90846995],\n",
       "       [0.97814208],\n",
       "       [0.99043716],\n",
       "       [1.14480874],\n",
       "       [1.14617486],\n",
       "       [1.15710383]])"
      ]
     },
     "execution_count": 83,
     "metadata": {},
     "output_type": "execute_result"
    }
   ],
   "source": [
    "theta0 = np.zeros((X.shape[1],1))+0.5\n",
    "Y_pred = Xnorm.dot(theta0)\n",
    "Y_pred"
   ]
  },
  {
   "cell_type": "markdown",
   "metadata": {},
   "source": [
    "# annova "
   ]
  },
  {
   "cell_type": "code",
   "execution_count": 80,
   "metadata": {},
   "outputs": [],
   "source": [
    "DF_REG = 2\n",
    "DF_RES = len(x) - 3\n",
    "DF_TOT = len(x) - 1\n",
    "############################################Sum of square\n",
    "m_y = np.mean(y)\n",
    "n = len(y)\n",
    "Y = np.array(y)\n",
    "error = Y - Y_pred\n",
    "################################################## SS Residual \n",
    "SS_res = np.sum(error**2)\n",
    "################################################### SS Regression\n",
    "SS_Reg = np.sum((Y_pred - m_y)**2)\n",
    "# ####################################################SS Total\n",
    "SS_total = np.sum((Y - m_y)**2)\n",
    "############################################### MS Residual\n",
    "MS_Res = SS_res/DF_RES\n",
    "############################################## S Regression\n",
    "MS_Reg = SS_Reg/DF_REG\n",
    "############################################ F Statistics\n",
    "F = MS_Reg/MS_Res"
   ]
  },
  {
   "cell_type": "code",
   "execution_count": 81,
   "metadata": {},
   "outputs": [],
   "source": [
    "def anova_table():\n",
    "    print('{0}\\t\\t{1}\\t\\t{2}\\t\\t\\t{3}\\t\\t\\t{4}'.format( \"Sources\",\"DF  \" , \"SS\" , \"MS\" , \"F statistics\"))\n",
    "    print('{0}\\t{1}\\t{2}\\t{3}\\t\\t{4}'.format( \"Regression\" ,DF_REG , SS_Reg , MS_Reg , F))\n",
    "    print('{0}\\t{1}\\t{2}\\t{3}'.format(\"Residual\",DF_RES , SS_res , MS_Res))\n",
    "    print('{0}\\t\\t{1}\\t{2}'.format(\"Total\",  DF_TOT , SS_total ))"
   ]
  },
  {
   "cell_type": "code",
   "execution_count": 82,
   "metadata": {},
   "outputs": [
    {
     "name": "stdout",
     "output_type": "stream",
     "text": [
      "Sources\t\tDF  \t\tSS\t\t\tMS\t\t\tF statistics\n",
      "Regression\t2\t54.99710850883722\t27.49855425441861\t\t0.24864401962820531\n",
      "Residual\t1\t110.59407057341214\t110.59407057341214\n",
      "Total\t\t3\t0.34099289999999993\n"
     ]
    }
   ],
   "source": [
    "anova_table()"
   ]
  }
 ],
 "metadata": {
  "kernelspec": {
   "display_name": "Python 3",
   "language": "python",
   "name": "python3"
  },
  "language_info": {
   "codemirror_mode": {
    "name": "ipython",
    "version": 3
   },
   "file_extension": ".py",
   "mimetype": "text/x-python",
   "name": "python",
   "nbconvert_exporter": "python",
   "pygments_lexer": "ipython3",
   "version": "3.8.3"
  }
 },
 "nbformat": 4,
 "nbformat_minor": 4
}
